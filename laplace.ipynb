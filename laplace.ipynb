{
 "cells": [
  {
   "cell_type": "code",
   "execution_count": 1,
   "metadata": {},
   "outputs": [
    {
     "name": "stderr",
     "output_type": "stream",
     "text": [
      "C:\\Users\\Domonkos\\anaconda3\\lib\\site-packages\\numpy\\_distributor_init.py:30: UserWarning: loaded more than 1 DLL from .libs:\n",
      "C:\\Users\\Domonkos\\anaconda3\\lib\\site-packages\\numpy\\.libs\\libopenblas.PYQHXLVVQ7VESDPUVUADXEVJOBGHJPAY.gfortran-win_amd64.dll\n",
      "C:\\Users\\Domonkos\\anaconda3\\lib\\site-packages\\numpy\\.libs\\libopenblas.WCDJNK7YVMPZQ2ME2ZZHJJRJ3JIKNDB7.gfortran-win_amd64.dll\n",
      "  warnings.warn(\"loaded more than 1 DLL from .libs:\"\n"
     ]
    }
   ],
   "source": [
    "# Importing the neccessary libraries\n",
    "\n",
    "import numpy as np\n",
    "import matplotlib.pyplot as plt\n",
    "\n",
    "from math import sin, cos, exp, pi"
   ]
  },
  {
   "cell_type": "markdown",
   "metadata": {},
   "source": [
    "## Functions"
   ]
  },
  {
   "cell_type": "code",
   "execution_count": 7,
   "metadata": {},
   "outputs": [],
   "source": [
    "# Function for plotting the rectangle\n",
    "# Input1: x coordinates of the circumference\n",
    "# Input2: y coordinates of the circumference\n",
    "# Input3: x coordinates of the inner domain\n",
    "# Input4: y coordinates of the inner domain\n",
    "\n",
    "def rect_plot(x_coordinates, y_coordinates, x_filled, y_filled, savefig):\n",
    "\n",
    "    plt.figure(figsize = (6,6))\n",
    "    plt.scatter(x_coordinates, y_coordinates, color = 'firebrick', s = 20)\n",
    "    plt.scatter(x_filled, y_filled, color = 'lightcoral', s = 0.5, alpha = 0.05)\n",
    "\n",
    "    plt.title('The generated domain with width = ' + str(w) + ', height = ' + str(h), fontsize = 16)\n",
    "    plt.xlabel('x', fontsize = 14)\n",
    "    plt.ylabel('y', fontsize = 14)\n",
    "    plt.grid()\n",
    "    \n",
    "    if savefig == True:\n",
    "        plt.savefig('domain.jpg', dpi = 600)\n",
    "    \n",
    "    plt.show()"
   ]
  },
  {
   "cell_type": "code",
   "execution_count": 3,
   "metadata": {},
   "outputs": [],
   "source": [
    "# Function for generating the circumference of the domain\n",
    "# Input1: the width of the domain\n",
    "# Input2: the height of the domain\n",
    "# Input3: the divison point - the relative height of the full rectangle\n",
    "# Output: list of the following:\n",
    "#    x coordinates of the circumference\n",
    "#    y coordinates of the circumference\n",
    "#    x coordinates of the inner domain\n",
    "#    y coordinates of the inner domain\n",
    "\n",
    "def rect_circ2(width, height, devision_point):\n",
    "    \n",
    "    # Creating lists to save the coordinates\n",
    "    x_coord_circ = []\n",
    "    y_coord_circ = []\n",
    "    x_filled = []\n",
    "    y_filled = []\n",
    "\n",
    "    # Generating the coordinates\n",
    "    x_lower_upper = list(np.array(range(int(-width/2*100), int(width/2*100)))/100)\n",
    "    y_lower = [-height/2]*len(x_lower_upper)\n",
    "    y_upper = [height/2]*len(x_lower_upper)\n",
    "\n",
    "    y_left_right = list(np.array(range(int(-h/2*100), int(h/2*100)))/100)\n",
    "    x_left = [-width/2]*len(y_left_right)\n",
    "    x_right = [width/2]*len(y_left_right)\n",
    "    \n",
    "    # Generating the circumference\n",
    "    x_coord_circ += x_lower_upper + x_left + x_right\n",
    "    y_coord_circ += y_lower + y_left_right + y_left_right\n",
    "    \n",
    "    # Generating the upper parts of the domain\n",
    "    \n",
    "    x_temp1 = x_lower_upper[int(len(x_lower_upper)/10*0):int(len(x_lower_upper)/10*2)]\n",
    "    x_temp3 = x_lower_upper[int(len(x_lower_upper)/10*4):int(len(x_lower_upper)/10*6)]\n",
    "    x_temp5 = x_lower_upper[int(len(x_lower_upper)/10*8):int(len(x_lower_upper)/10*10)]  \n",
    "    x_coord_circ += x_temp1 + x_temp3 + x_temp5\n",
    "    y_coord_circ += [height/2]*len(x_temp1) * 3\n",
    "    \n",
    "    # Generating the lower parts of the domain\n",
    "    x_temp2 = x_lower_upper[int(len(x_lower_upper)/10*2):int(len(x_lower_upper)/10*4)]\n",
    "    x_temp4 = x_lower_upper[int(len(x_lower_upper)/10*6):int(len(x_lower_upper)/10*8)]\n",
    "    x_coord_circ += x_temp2 + x_temp4\n",
    "    y_coord_circ += [y_left_right[int(len(y_left_right)*devision_point)]]*len(x_temp2)*2\n",
    "    \n",
    "    # Generating the perpendicular parts of the domain\n",
    "    y_temp1 = y_left_right[int(len(y_left_right)*devision_point):]\n",
    "    y_coord_circ += y_temp1*4\n",
    "    x_coord_circ += [x_lower_upper[int(len(x_lower_upper)/10*2)]] * len(y_temp1)\n",
    "    x_coord_circ += [x_lower_upper[int(len(x_lower_upper)/10*4)]] * len(y_temp1)\n",
    "    x_coord_circ += [x_lower_upper[int(len(x_lower_upper)/10*6)]] * len(y_temp1)\n",
    "    x_coord_circ += [x_lower_upper[int(len(x_lower_upper)/10*8)]] * len(y_temp1) \n",
    "    \n",
    "    # Filling up the lower devision_point of the rectangle\n",
    "    for i in range(1,int(len(y_left_right) * devision_point)-1):\n",
    "        #appending the x and y coordinates\n",
    "        x_filled += x_lower_upper[1:-1]\n",
    "        y_filled += [y_left_right[i]]*len(x_lower_upper[1:-1])\n",
    "    \n",
    "    # Filling up the rest of the domain\n",
    "    for i in range(int(len(y_left_right) * devision_point), len(y_left_right)):        \n",
    "        temp = x_lower_upper[int(len(x_lower_upper)/10*0)+1:int(len(x_lower_upper)/10*2)-1]      \n",
    "        x_filled += temp\n",
    "        x_filled += x_lower_upper[int(len(x_lower_upper)/10*4)+1:int(len(x_lower_upper)/10*6)-1]\n",
    "        x_filled += x_lower_upper[int(len(x_lower_upper)/10*8)+1:int(len(x_lower_upper)/10*10)-1]\n",
    "        y_filled += [y_left_right[i]]*len(temp)*3\n",
    "    \n",
    "    # Returning the coordinates\n",
    "    return [x_coord_circ, y_coord_circ, x_filled, y_filled]"
   ]
  },
  {
   "cell_type": "markdown",
   "metadata": {},
   "source": [
    "## Generating the domain"
   ]
  },
  {
   "cell_type": "code",
   "execution_count": 8,
   "metadata": {},
   "outputs": [
    {
     "data": {
      "image/png": "[encoded data removed]",
      "text/plain": [
       "<Figure size 432x432 with 1 Axes>"
      ]
     },
     "metadata": {
      "needs_background": "light"
     },
     "output_type": "display_data"
    }
   ],
   "source": [
    "# Setting the width and height\n",
    "\n",
    "w = 10\n",
    "h = 10\n",
    "\n",
    "# Setting the division point - the relative height of the full rectangle\n",
    "\n",
    "devision_point = 1/3\n",
    "\n",
    "# Generating the circumference of the domain \n",
    "\n",
    "x_y_coord = rect_circ2(w, h, devision_point)\n",
    "x_coordinates = x_y_coord[0]\n",
    "y_coordinates = x_y_coord[1]\n",
    "x_filled = x_y_coord[2]\n",
    "y_filled = x_y_coord[3]\n",
    "\n",
    "# Plotting the domain\n",
    "\n",
    "savefig = False\n",
    "\n",
    "rect_plot(x_coordinates, y_coordinates, x_filled, y_filled, savefig)"
   ]
  },
  {
   "cell_type": "code",
   "execution_count": null,
   "metadata": {},
   "outputs": [],
   "source": []
  }
 ],
 "metadata": {
  "kernelspec": {
   "display_name": "Python 3",
   "language": "python",
   "name": "python3"
  },
  "language_info": {
   "codemirror_mode": {
    "name": "ipython",
    "version": 3
   },
   "file_extension": ".py",
   "mimetype": "text/x-python",
   "name": "python",
   "nbconvert_exporter": "python",
   "pygments_lexer": "ipython3",
   "version": "3.8.5"
  }
 },
 "nbformat": 4,
 "nbformat_minor": 4
}
