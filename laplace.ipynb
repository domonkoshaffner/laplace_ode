{
 "cells": [
  {
   "cell_type": "code",
   "execution_count": 5,
   "metadata": {},
   "outputs": [],
   "source": [
    "# Importing the neccessary libraries\n",
    "\n",
    "import numpy as np\n",
    "import matplotlib.pyplot as plt\n",
    "\n",
    "from math import sin, cos, exp, pi"
   ]
  },
  {
   "cell_type": "markdown",
   "metadata": {},
   "source": [
    "## Functions"
   ]
  },
  {
   "cell_type": "code",
   "execution_count": 106,
   "metadata": {},
   "outputs": [],
   "source": [
    "# Function for generating the circumference of the rectangle\n",
    "\n",
    "def rect_circ(width, height):\n",
    "    \n",
    "    # Creating lists to save the coordinates\n",
    "\n",
    "    x_filled = []\n",
    "    y_filled = []\n",
    "\n",
    "    # Generating the coordinates\n",
    "\n",
    "    x_lower_upper = list(np.array(range(int(-width/2*100), int(width/2*100)))/100)\n",
    "    y_lower = [-height/2]*len(x_lower_upper)\n",
    "    y_upper = [height/2]*len(x_lower_upper)\n",
    "\n",
    "    y_left_right = list(np.array(range(int(-h/2*100), int(h/2*100)))/100)\n",
    "    x_left = [-width/2]*len(y_left_right)\n",
    "    x_right = [width/2]*len(y_left_right)\n",
    "    \n",
    "    # Filling up the lower 1/3 of the rectangle\n",
    "    \n",
    "    for i in range(0,int(len(y_left_right)/3)):\n",
    "        #appending the x and y coordinates\n",
    "        x_filled += x_lower_upper\n",
    "        y_filled += [y_left_right[i]]*len(x_lower_upper)\n",
    "        \n",
    "    # Filling up the upper parts of the rectangle\n",
    "    \n",
    "    for i in range(int(len(y_left_right)/3), len(y_left_right)):\n",
    "        #appending the x coordinates\n",
    "        temp =  x_lower_upper[int(len(x_lower_upper)/5*0):int(len(x_lower_upper)/5*1)]\n",
    "        x_filled += temp\n",
    "        #x_filled += x_lower_upper[int(len(x_lower_upper)/5*2):int(len(x_lower_upper)/5*3)]        \n",
    "        x_filled += x_lower_upper[int(len(x_lower_upper)/5*4):int(len(x_lower_upper)/5*5)]      \n",
    "        \n",
    "        #appending the y coordinates\n",
    "        y_filled += [y_left_right[i]]*len(temp)*2\n",
    "        \n",
    "    # Returning with the coordinates\n",
    "    \n",
    "    return [x_filled, y_filled]"
   ]
  },
  {
   "cell_type": "code",
   "execution_count": null,
   "metadata": {},
   "outputs": [],
   "source": []
  },
  {
   "cell_type": "code",
   "execution_count": 107,
   "metadata": {},
   "outputs": [],
   "source": [
    "# Function for plotting the rectangle\n",
    "\n",
    "def rect_plot(x_coordinates, y_coordinates):\n",
    "\n",
    "    plt.figure(figsize = (6,6))\n",
    "    plt.plot(x_coordinates, y_coordinates, color = 'firebrick', label = 'rectangle')\n",
    "\n",
    "    plt.title('The generated rectangle with width = ' + str(w) + ', height = ' + str(h), fontsize = 16)\n",
    "    plt.xlabel('x', fontsize = 14)\n",
    "    plt.ylabel('y', fontsize = 14)\n",
    "\n",
    "    plt.legend(fontsize = 14)\n",
    "    plt.grid()\n",
    "    plt.show()"
   ]
  },
  {
   "cell_type": "markdown",
   "metadata": {},
   "source": [
    "## Generating the rectangle"
   ]
  },
  {
   "cell_type": "code",
   "execution_count": 108,
   "metadata": {},
   "outputs": [
    {
     "data": {
      "image/png": "[encoded data removed]",
      "text/plain": [
       "<Figure size 432x432 with 1 Axes>"
      ]
     },
     "metadata": {
      "needs_background": "light"
     },
     "output_type": "display_data"
    }
   ],
   "source": [
    "# Setting the width and height\n",
    "\n",
    "w = 10\n",
    "h = 10\n",
    "\n",
    "# Generating the circumference of the rectangle\n",
    "\n",
    "x_y_coord = rect_circ(w, h)\n",
    "x_coordinates = x_y_coord[0]\n",
    "y_coordinates = x_y_coord[1]\n",
    "\n",
    "# Plotting the rectangle\n",
    "\n",
    "rect_plot(x_coordinates, y_coordinates)"
   ]
  },
  {
   "cell_type": "code",
   "execution_count": 55,
   "metadata": {},
   "outputs": [],
   "source": []
  },
  {
   "cell_type": "code",
   "execution_count": null,
   "metadata": {},
   "outputs": [],
   "source": []
  }
 ],
 "metadata": {
  "kernelspec": {
   "display_name": "Python 3",
   "language": "python",
   "name": "python3"
  },
  "language_info": {
   "codemirror_mode": {
    "name": "ipython",
    "version": 3
   },
   "file_extension": ".py",
   "mimetype": "text/x-python",
   "name": "python",
   "nbconvert_exporter": "python",
   "pygments_lexer": "ipython3",
   "version": "3.8.5"
  }
 },
 "nbformat": 4,
 "nbformat_minor": 4
}
